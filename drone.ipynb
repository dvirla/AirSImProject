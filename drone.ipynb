{
 "metadata": {
  "language_info": {
   "codemirror_mode": {
    "name": "ipython",
    "version": 3
   },
   "file_extension": ".py",
   "mimetype": "text/x-python",
   "name": "python",
   "nbconvert_exporter": "python",
   "pygments_lexer": "ipython3",
   "version": 3
  },
  "orig_nbformat": 4
 },
 "nbformat": 4,
 "nbformat_minor": 2,
 "cells": [
  {
   "cell_type": "code",
   "execution_count": null,
   "metadata": {},
   "outputs": [],
   "source": [
    "import airsim\n",
    "\n",
    "\n",
    "class Drone:\n",
    "    def __init__(self, vehicle_name: str, client: airsim.MultirotorClient, velocity=5):\n",
    "        self.vehicle_name = vehicle_name\n",
    "        self.client = client\n",
    "        self.velocity = velocity\n",
    "\n",
    "    def takeoff(self):\n",
    "        self.client.enableApiControl(True, vehicle_name=self.vehicle_name)\n",
    "        self.client.armDisarm(True, vehicle_name=self.vehicle_name)\n",
    "        return self.client.takeoffAsync(vehicle_name=self.vehicle_name)\n",
    "\n",
    "    def get_pose(self):\n",
    "        return self.client.simGetVehiclePose(self.vehicle_name)\n",
    "\n",
    "    def move_to_position(self, x, y, z):\n",
    "        self.client.moveToPositionAsync(x, y, z, self.velocity, vehicle_name=self.vehicle_name).join()\n",
    "\n",
    "    def execute_routine(self, routine):\n",
    "        for x, y, z in routine:\n",
    "            self.move_to_position(x, y, z)"
   ]
  },
  {
   "cell_type": "code",
   "execution_count": null,
   "metadata": {},
   "outputs": [],
   "source": [
    "import time\n",
    "\n",
    "client = airsim.MultirotorClient()\n",
    "client.confirmConnection()"
   ]
  },
  {
   "cell_type": "code",
   "execution_count": null,
   "metadata": {},
   "outputs": [],
   "source": [
    "print('Adding second drone')\n",
    "pose = drones[0].get_pose()\n",
    "pose.position.x_val += 10\n",
    "if not client.simAddVehicle('drone_2', 'simpleflight', pose):\n",
    "    print('Failed to add drone')\n",
    "    return"
   ]
  },
  {
   "cell_type": "code",
   "execution_count": null,
   "metadata": {},
   "outputs": [],
   "source": [
    "client.reset()\n",
    "time.sleep(1)\n",
    "drones = [Drone('drone_1', client), Drone('drone_2', client)]\n",
    "print('Taking off')\n",
    "time.sleep(1)\n",
    "tasks = [drone.takeoff() for drone in drones]\n",
    "for task in tasks:\n",
    "    task.join()\n",
    "print('Moving')\n",
    "for drone in drones:\n",
    "    pose = drone.get_pose()\n",
    "    drone.move_to_position(pose.position.x_val + 5, pose.position.y_val, pose.position.z_val + 10)"
   ]
  }
 ]
}